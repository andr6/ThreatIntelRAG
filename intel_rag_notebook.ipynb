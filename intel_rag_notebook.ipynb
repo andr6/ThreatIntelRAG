{
 "cells": [
  {
   "cell_type": "markdown",
   "metadata": {},
   "source": [
    "# Retrieval-Augmented Generation (RAG) for Cyber Threat Intel"
   ]
  },
  {
   "cell_type": "code",
   "execution_count": 1,
   "metadata": {},
   "outputs": [],
   "source": [
    "from langchain_community.document_loaders import RSSFeedLoader\n",
    "from langchain_community.document_loaders import CSVLoader\n",
    "from langchain_community.document_loaders import PyPDFLoader\n",
    "import config\n",
    "import os"
   ]
  },
  {
   "cell_type": "code",
   "execution_count": 27,
   "metadata": {},
   "outputs": [],
   "source": [
    "# Regenerator Vectorstore\n",
    "REGENERATE_VECTOR_STORE = False      # Set to false to load saved vectordb\n",
    "\n",
    "# Check if vectordb exists\n",
    "vectordb_exists = len(os.listdir(config.VECTORSTORE_PERSIST_DIR)) != 0\n",
    "vectordb_exists = not REGENERATE_VECTOR_STORE"
   ]
  },
  {
   "cell_type": "code",
   "execution_count": 29,
   "metadata": {},
   "outputs": [],
   "source": [
    "if not vectordb_exists:\n",
    "\n",
    "    # Load CSV Docs\n",
    "    loader = CSVLoader(file_path='rag_documents/enterprise-attack-v16.csv')\n",
    "    csv_docs = loader.load()\n",
    "\n",
    "    # Load RSS Feeds to docs\n",
    "    all_rss_urls = config.RSS_INTEL_REPORTS_URLS + config.RSS_INTEL_TOOLS_URLS\n",
    "    loader = RSSFeedLoader(urls=all_rss_urls)\n",
    "    rss_docs = loader.load()\n",
    "\n",
    "    # Load PDF Docs\n",
    "    loader = PyPDFLoader(file_path='rag_documents/ATTACK_Design_and_Philosophy_March_2020.pdf')\n",
    "    pdf_docs = loader.load()\n",
    "\n",
    "    all_docs = csv_docs + rss_docs + pdf_docs\n",
    "    print(all_docs[:5])"
   ]
  },
  {
   "cell_type": "code",
   "execution_count": 4,
   "metadata": {},
   "outputs": [],
   "source": [
    "from langchain_text_splitters import RecursiveCharacterTextSplitter\n",
    "\n",
    "if not vectordb_exists:\n",
    "    text_splitter = RecursiveCharacterTextSplitter(\n",
    "        chunk_size=1200,\n",
    "        chunk_overlap=100,\n",
    "        add_start_index=True\n",
    "    )\n",
    "    all_splits = text_splitter.split_documents(all_docs)\n",
    "    all_splits\n"
   ]
  },
  {
   "cell_type": "code",
   "execution_count": 5,
   "metadata": {},
   "outputs": [],
   "source": [
    "from langchain_ollama import OllamaEmbeddings\n",
    "\n",
    "local_embeddings = OllamaEmbeddings(model=config.OLLAMA_EMBEDDINGS_MODEL)"
   ]
  },
  {
   "cell_type": "code",
   "execution_count": 8,
   "metadata": {},
   "outputs": [],
   "source": [
    "from langchain_chroma import Chroma\n",
    "from langchain_community.vectorstores.utils import filter_complex_metadata\n",
    "\n",
    "# Generate vectorstore from docs if vectorstore dir is empty, otherwise load saved vectordb\n",
    "if not vectordb_exists:\n",
    "    # Split the documents into smaller batches (https://community.openai.com/t/error-while-reading-pdf-file-using-openai-chromadb-module/883612)\n",
    "    batch_size = 5461  # Set to the maximum allowed batch size\n",
    "    for i in range(0, len(all_splits), batch_size):\n",
    "        batch = all_splits[i:i + batch_size]\n",
    "        vectorstore = Chroma.from_documents(documents=filter_complex_metadata(batch), embedding=local_embeddings, persist_directory=config.VECTORSTORE_PERSIST_DIR)\n",
    "else:\n",
    "    vectorstore = Chroma(embedding_function=local_embeddings, persist_directory=config.VECTORSTORE_PERSIST_DIR)\n"
   ]
  },
  {
   "cell_type": "code",
   "execution_count": 16,
   "metadata": {},
   "outputs": [],
   "source": [
    "question = \"Summarize the ATT&CK Design Philosophy.\"\n",
    "retriever = vectorstore.as_retriever(search_type=config.VECTORSTORE_SEARCH_TYPE, search_kwargs={\"k\": 4})\n",
    "retrieved_docs = retriever.invoke(question)"
   ]
  },
  {
   "cell_type": "code",
   "execution_count": 17,
   "metadata": {},
   "outputs": [
    {
     "data": {
      "text/plain": [
       "[Document(metadata={'page': 3, 'source': 'rag_documents/ATTACK_Design_and_Philosophy_March_2020.pdf', 'start_index': 0}, page_content='v ©2020 The MITRE Corporation. All Rights Reserved Approved for Public Release. Distribution unlimited 19-01075-28. \\nExecutive Summary This paper discusses the motivation behind the creation of ATT&CK, the components described within it, its design philosophy, how the project has progressed, and how it can be used. It is meant to be used as an authoritative source of information about ATT&CK as well as a guide for how ATT&CK is maintained and how the ATT&CK methodology is applied to create knowledge bases for new domains.'),\n",
       " Document(metadata={'page': 4, 'source': 'rag_documents/ATTACK_Design_and_Philosophy_March_2020.pdf', 'start_index': 0}, page_content='vi ©2020 The MITRE Corporation. All Rights Reserved Approved for Public Release. Distribution unlimited 19-01075-28. \\nPreface This paper documents the published version of ATT&CK as of March 2020 with the addition of sub-techniques. MITRE has announced plans to evolve and expand ATT&CK throughout 2020 [1]. This paper will be maintained as a living document and will be updated as significant changes are made to ATT&CK and the process used to maintain the content within ATT&CK.'),\n",
       " Document(metadata={'description': '2023 was dynamic year for ATT&CK. We marked a decade of progress since the framework’s inception and achieved some key milestones to make ATT&CK more accessible for a wider community. Our scope…', 'feed': 'https://medium.com/feed/mitre-attack', 'language': 'en', 'link': 'https://medium.com/mitre-attack/attack-2024-roadmap-8dfc46d1ad1b?source=rss----6da19bd08fba---4', 'start_index': 14844, 'title': 'ATT&CK 2024 Roadmap'}, page_content='ATT&CK Community Workshops | Practitioner-led Forums for Activating ATT&CK\\n\\nWe’re always inspired to see how ATT&CK is being used in innovative ways to upgrade defensive capabilities. The regional ATT&CK community workshops — organized by practitioners, for practitioners — provide forums to share insights, use cases, and collaborative approaches for leveraging ATT&CK.\\n\\nATT&CKcon 5.0 | Great Speakers, Content, & Conversations around ATT&CK\\n\\nATT&CKcon 5.0 will be arriving October 22–23, featuring both virtual and in-person attendance from McLean, VA. Stay tuned to our Twitter and LinkedIn channels for updates on our Call for Presentations, which will open in the coming months, followed by our illustrious speaker lineup. If your organization is thinking about joining the ATT&CKcon adventure as a sponsor, please reach out to us at attackcon@mitre.org.\\n\\nBenefactor Program | Empowering Defenders, Sustaining Independence'),\n",
       " Document(metadata={'page': 0, 'source': 'rag_documents/ATTACK_Design_and_Philosophy_March_2020.pdf', 'start_index': 0}, page_content='MITRE ATT&CKÒ: Design and Philosophy  \\n        \\nAuthors:  Blake E. Strom Andy Applebaum  Doug P. Miller Kathryn C. Nickels  Adam G. Pennington  Cody B. Thomas  Originally Published July 2018  Revised March 2020 \\nMP180360R1 MITRE PRODUCT    \\n   \\nProject No.: 10AOH08A-JC  The views, opinions and/or findings contained in this report are those of The MITRE Corporation and should not be construed as an official government position, policy, or decision, unless designated by other documentation. Approved for Public Release. Distribution unlimited 19-01075-28.  ©2020 The MITRE Corporation.  All rights reserved. MITRE ATT&CK and ATT&CK are registered trademarks of the MITRE Corporation.  McLean, VA')]"
      ]
     },
     "execution_count": 17,
     "metadata": {},
     "output_type": "execute_result"
    }
   ],
   "source": [
    "retrieved_docs"
   ]
  },
  {
   "cell_type": "code",
   "execution_count": 18,
   "metadata": {},
   "outputs": [
    {
     "data": {
      "text/plain": [
       "'v ©2020 The MITRE Corporation. All Rights Reserved Approved for Public Release. Distribution unlimited 19-01075-28. \\nExecutive Summary This paper discusses the motivation behind the creation of ATT&CK, the components described within it, its design philosophy, how the project has progressed, and how it can be used. It is meant to be used as an authoritative source of information about ATT&CK as well as a guide for how ATT&CK is maintained and how the ATT&CK methodology is applied to create knowledge bases for new domains. vi ©2020 The MITRE Corporation. All Rights Reserved Approved for Public Release. Distribution unlimited 19-01075-28. \\nPreface This paper documents the published version of ATT&CK as of March 2020 with the addition of sub-techniques. MITRE has announced plans to evolve and expand ATT&CK throughout 2020 [1]. This paper will be maintained as a living document and will be updated as significant changes are made to ATT&CK and the process used to maintain the content within ATT&CK. ATT&CK Community Workshops | Practitioner-led Forums for Activating ATT&CK\\n\\nWe’re always inspired to see how ATT&CK is being used in innovative ways to upgrade defensive capabilities. The regional ATT&CK community workshops — organized by practitioners, for practitioners — provide forums to share insights, use cases, and collaborative approaches for leveraging ATT&CK.\\n\\nATT&CKcon 5.0 | Great Speakers, Content, & Conversations around ATT&CK\\n\\nATT&CKcon 5.0 will be arriving October 22–23, featuring both virtual and in-person attendance from McLean, VA. Stay tuned to our Twitter and LinkedIn channels for updates on our Call for Presentations, which will open in the coming months, followed by our illustrious speaker lineup. If your organization is thinking about joining the ATT&CKcon adventure as a sponsor, please reach out to us at attackcon@mitre.org.\\n\\nBenefactor Program | Empowering Defenders, Sustaining Independence MITRE ATT&CKÒ: Design and Philosophy  \\n        \\nAuthors:  Blake E. Strom Andy Applebaum  Doug P. Miller Kathryn C. Nickels  Adam G. Pennington  Cody B. Thomas  Originally Published July 2018  Revised March 2020 \\nMP180360R1 MITRE PRODUCT    \\n   \\nProject No.: 10AOH08A-JC  The views, opinions and/or findings contained in this report are those of The MITRE Corporation and should not be construed as an official government position, policy, or decision, unless designated by other documentation. Approved for Public Release. Distribution unlimited 19-01075-28.  ©2020 The MITRE Corporation.  All rights reserved. MITRE ATT&CK and ATT&CK are registered trademarks of the MITRE Corporation.  McLean, VA'"
      ]
     },
     "execution_count": 18,
     "metadata": {},
     "output_type": "execute_result"
    }
   ],
   "source": [
    "context = ' '.join([doc.page_content for doc in retrieved_docs])\n",
    "context"
   ]
  },
  {
   "cell_type": "code",
   "execution_count": 19,
   "metadata": {},
   "outputs": [],
   "source": [
    "from langchain_ollama.llms import OllamaLLM\n",
    "\n",
    "llm = OllamaLLM(model=config.OLLAMA_LLM_MODEL)\n",
    "response = llm.invoke(f\"\"\"\n",
    "    Answer the question according to the context:\n",
    "        Question: {question}\n",
    "        Context: {context}\n",
    "\"\"\")"
   ]
  },
  {
   "cell_type": "code",
   "execution_count": 30,
   "metadata": {},
   "outputs": [
    {
     "data": {
      "text/markdown": [
       "The ATT&CK Design Philosophy is based on a collaborative effort between researchers at The MITRE Corporation to create a comprehensive framework for understanding and mitigating advanced threat actors' (ATPs) tactics, techniques, and procedures (TTPs). Here are the key components described within it:\n",
       "\n",
       "1. **Components**: The design philosophy includes several key components that address different aspects of ATPs:\n",
       "   - **Behavioral Analysis Network**: A network of human analysts who analyze publicly available data to identify trends and patterns.\n",
       "   - **Network Analysis Framework**: A methodology for analyzing networks, including identifying relationships between actors, systems, and other entities.\n",
       "   - **TTP Identification Tool (TIT)**: A tool used to automatically identify known TTPs in publicly available data.\n",
       "\n",
       "2. **Design Philosophy**: The ATT&CK design philosophy emphasizes the importance of a human-centered approach:\n",
       "   - **Human-centric approach**: Understanding how ATPs operate, plan, and adapt to different situations.\n",
       "   - **Collaboration and community engagement**: Building partnerships with practitioners, researchers, and organizations to share insights and best practices.\n",
       "\n",
       "3. **Progress and future developments**: The ATT&CK methodology has been refined through various iterations, including the addition of sub-techniques:\n",
       "   - **Sub-technique additions**: New techniques are continually being added to improve the accuracy and effectiveness of the framework.\n",
       "   - **Evolution of the design philosophy**: MITRE plans to evolve and expand ATT&CK throughout 2020, reflecting changing threat landscape and advancements in technology.\n",
       "\n",
       "4. **Usage and community engagement**: The design philosophy is used as an authoritative source for knowledge about ATPs:\n",
       "   - **Guide for maintaining content**: ATT&CK methodology is applied to create knowledge bases for new domains.\n",
       "   - **Training programs**: Community workshops provide forums for practitioners to share insights, use cases, and collaborative approaches.\n",
       "\n",
       "5. **Upcoming events**: ATT&CKcon 5.0 will be held in October 2020, featuring virtual and in-person attendance:\n",
       "   - **Call for presentations**: An open process for submitting speaker proposals.\n",
       "   - **Sponsorship opportunities**: Companies interested in sponsoring the event can reach out to attackcon@mitre.org.\n",
       "\n",
       "The ATT&CK design philosophy prioritizes collaboration, human-centered understanding of ATPs, and continuous improvement through community engagement."
      ],
      "text/plain": [
       "<IPython.core.display.Markdown object>"
      ]
     },
     "metadata": {},
     "output_type": "display_data"
    }
   ],
   "source": [
    "from IPython.display import display, Markdown, Latex\n",
    "display(Markdown(response))"
   ]
  }
 ],
 "metadata": {
  "kernelspec": {
   "display_name": "Python 3",
   "language": "python",
   "name": "python3"
  },
  "language_info": {
   "codemirror_mode": {
    "name": "ipython",
    "version": 3
   },
   "file_extension": ".py",
   "mimetype": "text/x-python",
   "name": "python",
   "nbconvert_exporter": "python",
   "pygments_lexer": "ipython3",
   "version": "3.12.7"
  }
 },
 "nbformat": 4,
 "nbformat_minor": 2
}
